{
 "cells": [
  {
   "cell_type": "code",
   "execution_count": 3,
   "metadata": {},
   "outputs": [],
   "source": [
    "import numpy as np\n",
    "import pandas as pd\n",
    "import itertools\n",
    "from sklearn.model_selection import train_test_split\n",
    "from sklearn.feature_extraction.text import TfidfVectorizer\n",
    "from sklearn.linear_model import PassiveAggressiveClassifier\n",
    "from sklearn.metrics import accuracy_score, confusion_matrix"
   ]
  },
  {
   "cell_type": "code",
   "execution_count": 1,
   "metadata": {},
   "outputs": [
    {
     "data": {
      "text/plain": [
       "'C:\\\\Users\\\\15714\\\\Documents\\\\Github\\\\hackumbc\\\\model'"
      ]
     },
     "execution_count": 1,
     "metadata": {},
     "output_type": "execute_result"
    }
   ],
   "source": [
    "pwd"
   ]
  },
  {
   "cell_type": "code",
   "execution_count": 16,
   "metadata": {},
   "outputs": [],
   "source": [
    "df = pd.read_csv('./data/fake_news_final.csv')"
   ]
  },
  {
   "cell_type": "code",
   "execution_count": 18,
   "metadata": {},
   "outputs": [],
   "source": [
    "df = df[df['combined_text'].notna()]"
   ]
  },
  {
   "cell_type": "code",
   "execution_count": 19,
   "metadata": {},
   "outputs": [
    {
     "data": {
      "text/html": [
       "<div>\n",
       "<style scoped>\n",
       "    .dataframe tbody tr th:only-of-type {\n",
       "        vertical-align: middle;\n",
       "    }\n",
       "\n",
       "    .dataframe tbody tr th {\n",
       "        vertical-align: top;\n",
       "    }\n",
       "\n",
       "    .dataframe thead th {\n",
       "        text-align: right;\n",
       "    }\n",
       "</style>\n",
       "<table border=\"1\" class=\"dataframe\">\n",
       "  <thead>\n",
       "    <tr style=\"text-align: right;\">\n",
       "      <th></th>\n",
       "      <th>Unnamed: 0</th>\n",
       "      <th>news_url</th>\n",
       "      <th>title</th>\n",
       "      <th>content</th>\n",
       "      <th>fake</th>\n",
       "      <th>news_source</th>\n",
       "      <th>combined_text</th>\n",
       "    </tr>\n",
       "  </thead>\n",
       "  <tbody>\n",
       "    <tr>\n",
       "      <th>0</th>\n",
       "      <td>0</td>\n",
       "      <td>https://www.facebook.com/tednugent/photos/a.10...</td>\n",
       "      <td>A “face mask exempt card” shared on social med...</td>\n",
       "      <td>snag limbrats that daddy 22s out of the toweri...</td>\n",
       "      <td>1.0</td>\n",
       "      <td>facebook.com</td>\n",
       "      <td>A “face mask exempt card” shared on social med...</td>\n",
       "    </tr>\n",
       "    <tr>\n",
       "      <th>1</th>\n",
       "      <td>1</td>\n",
       "      <td>https://www.facebook.com/jeff.neff.528/videos/...</td>\n",
       "      <td>A test on video with a gas detector shows that...</td>\n",
       "      <td>see more of jeff neff on facebook.</td>\n",
       "      <td>1.0</td>\n",
       "      <td>facebook.com</td>\n",
       "      <td>A test on video with a gas detector shows that...</td>\n",
       "    </tr>\n",
       "    <tr>\n",
       "      <th>2</th>\n",
       "      <td>2</td>\n",
       "      <td>https://twitter.com/SexCounseling/status/12764...</td>\n",
       "      <td>A painting depicting children in face masks wa...</td>\n",
       "      <td>we 've detected that javascript is disabled in...</td>\n",
       "      <td>1.0</td>\n",
       "      <td>twitter.com</td>\n",
       "      <td>A painting depicting children in face masks wa...</td>\n",
       "    </tr>\n",
       "    <tr>\n",
       "      <th>4</th>\n",
       "      <td>4</td>\n",
       "      <td>https://www.facebook.com/photo.php?fbid=424048...</td>\n",
       "      <td>Meme shows Florida Surgeon General saying: Eve...</td>\n",
       "      <td>see more of jeff cloud on facebook.</td>\n",
       "      <td>1.0</td>\n",
       "      <td>facebook.com</td>\n",
       "      <td>Meme shows Florida Surgeon General saying: Eve...</td>\n",
       "    </tr>\n",
       "    <tr>\n",
       "      <th>5</th>\n",
       "      <td>5</td>\n",
       "      <td>https://www.facebook.com/photo.php?fbid=101569...</td>\n",
       "      <td>Alexandria Ocasio-Cortez tweeted “It’s vital t...</td>\n",
       "      <td>see more of theresa ivancik on facebook.</td>\n",
       "      <td>1.0</td>\n",
       "      <td>facebook.com</td>\n",
       "      <td>Alexandria Ocasio-Cortez tweeted “It’s vital t...</td>\n",
       "    </tr>\n",
       "    <tr>\n",
       "      <th>...</th>\n",
       "      <td>...</td>\n",
       "      <td>...</td>\n",
       "      <td>...</td>\n",
       "      <td>...</td>\n",
       "      <td>...</td>\n",
       "      <td>...</td>\n",
       "      <td>...</td>\n",
       "    </tr>\n",
       "    <tr>\n",
       "      <th>6614</th>\n",
       "      <td>6614</td>\n",
       "      <td>https://factcheck.afp.com/video-has-circulated...</td>\n",
       "      <td>This video has circulated online since at leas...</td>\n",
       "      <td>It has been viewed more than 5,300 times., The...</td>\n",
       "      <td>1.0</td>\n",
       "      <td>factcheck.afp.com</td>\n",
       "      <td>This video has circulated online since at leas...</td>\n",
       "    </tr>\n",
       "    <tr>\n",
       "      <th>6615</th>\n",
       "      <td>6615</td>\n",
       "      <td>https://hindi.boomlive.in/fake-news/video-of-a...</td>\n",
       "      <td>Canine coronavirus vaccine is for dogs – not r...</td>\n",
       "      <td>A photo shared on Facebook in South Africa sho...</td>\n",
       "      <td>1.0</td>\n",
       "      <td>hindi.boomlive.in</td>\n",
       "      <td>Canine coronavirus vaccine is for dogs – not r...</td>\n",
       "    </tr>\n",
       "    <tr>\n",
       "      <th>6616</th>\n",
       "      <td>6616</td>\n",
       "      <td>https://www.vishvasnews.com/english/health/fac...</td>\n",
       "      <td>Fact Check: Post claiming alcohol kills corona...</td>\n",
       "      <td>A viral post on social media claims that alcoh...</td>\n",
       "      <td>1.0</td>\n",
       "      <td>vishvasnews.com</td>\n",
       "      <td>Fact Check: Post claiming alcohol kills corona...</td>\n",
       "    </tr>\n",
       "    <tr>\n",
       "      <th>6617</th>\n",
       "      <td>6617</td>\n",
       "      <td>https://www.snopes.com/fact-check/resident-evi...</td>\n",
       "      <td>Is the ‘Umbrella Corporation’ Logo Oddly Simil...</td>\n",
       "      <td>, The claim that “Corona” is an anagram for “R...</td>\n",
       "      <td>1.0</td>\n",
       "      <td>snopes.com</td>\n",
       "      <td>Is the ‘Umbrella Corporation’ Logo Oddly Simil...</td>\n",
       "    </tr>\n",
       "    <tr>\n",
       "      <th>6618</th>\n",
       "      <td>6618</td>\n",
       "      <td>https://www.boomlive.in/fake-news/images-of-ba...</td>\n",
       "      <td>Images Of Baby With Birth Defect Falsely Linke...</td>\n",
       "      <td>BOOM found that the baby was born at a village...</td>\n",
       "      <td>1.0</td>\n",
       "      <td>boomlive.in</td>\n",
       "      <td>Images Of Baby With Birth Defect Falsely Linke...</td>\n",
       "    </tr>\n",
       "  </tbody>\n",
       "</table>\n",
       "<p>5681 rows × 7 columns</p>\n",
       "</div>"
      ],
      "text/plain": [
       "      Unnamed: 0                                           news_url  \\\n",
       "0              0  https://www.facebook.com/tednugent/photos/a.10...   \n",
       "1              1  https://www.facebook.com/jeff.neff.528/videos/...   \n",
       "2              2  https://twitter.com/SexCounseling/status/12764...   \n",
       "4              4  https://www.facebook.com/photo.php?fbid=424048...   \n",
       "5              5  https://www.facebook.com/photo.php?fbid=101569...   \n",
       "...          ...                                                ...   \n",
       "6614        6614  https://factcheck.afp.com/video-has-circulated...   \n",
       "6615        6615  https://hindi.boomlive.in/fake-news/video-of-a...   \n",
       "6616        6616  https://www.vishvasnews.com/english/health/fac...   \n",
       "6617        6617  https://www.snopes.com/fact-check/resident-evi...   \n",
       "6618        6618  https://www.boomlive.in/fake-news/images-of-ba...   \n",
       "\n",
       "                                                  title  \\\n",
       "0     A “face mask exempt card” shared on social med...   \n",
       "1     A test on video with a gas detector shows that...   \n",
       "2     A painting depicting children in face masks wa...   \n",
       "4     Meme shows Florida Surgeon General saying: Eve...   \n",
       "5     Alexandria Ocasio-Cortez tweeted “It’s vital t...   \n",
       "...                                                 ...   \n",
       "6614  This video has circulated online since at leas...   \n",
       "6615  Canine coronavirus vaccine is for dogs – not r...   \n",
       "6616  Fact Check: Post claiming alcohol kills corona...   \n",
       "6617  Is the ‘Umbrella Corporation’ Logo Oddly Simil...   \n",
       "6618  Images Of Baby With Birth Defect Falsely Linke...   \n",
       "\n",
       "                                                content  fake  \\\n",
       "0     snag limbrats that daddy 22s out of the toweri...   1.0   \n",
       "1                   see more of jeff neff on facebook.    1.0   \n",
       "2     we 've detected that javascript is disabled in...   1.0   \n",
       "4                  see more of jeff cloud on facebook.    1.0   \n",
       "5             see more of theresa ivancik on facebook.    1.0   \n",
       "...                                                 ...   ...   \n",
       "6614  It has been viewed more than 5,300 times., The...   1.0   \n",
       "6615  A photo shared on Facebook in South Africa sho...   1.0   \n",
       "6616  A viral post on social media claims that alcoh...   1.0   \n",
       "6617  , The claim that “Corona” is an anagram for “R...   1.0   \n",
       "6618  BOOM found that the baby was born at a village...   1.0   \n",
       "\n",
       "            news_source                                      combined_text  \n",
       "0          facebook.com  A “face mask exempt card” shared on social med...  \n",
       "1          facebook.com  A test on video with a gas detector shows that...  \n",
       "2           twitter.com  A painting depicting children in face masks wa...  \n",
       "4          facebook.com  Meme shows Florida Surgeon General saying: Eve...  \n",
       "5          facebook.com  Alexandria Ocasio-Cortez tweeted “It’s vital t...  \n",
       "...                 ...                                                ...  \n",
       "6614  factcheck.afp.com  This video has circulated online since at leas...  \n",
       "6615  hindi.boomlive.in  Canine coronavirus vaccine is for dogs – not r...  \n",
       "6616    vishvasnews.com  Fact Check: Post claiming alcohol kills corona...  \n",
       "6617         snopes.com  Is the ‘Umbrella Corporation’ Logo Oddly Simil...  \n",
       "6618        boomlive.in  Images Of Baby With Birth Defect Falsely Linke...  \n",
       "\n",
       "[5681 rows x 7 columns]"
      ]
     },
     "execution_count": 19,
     "metadata": {},
     "output_type": "execute_result"
    }
   ],
   "source": [
    "df"
   ]
  },
  {
   "cell_type": "code",
   "execution_count": 20,
   "metadata": {},
   "outputs": [
    {
     "data": {
      "text/plain": [
       "0"
      ]
     },
     "execution_count": 20,
     "metadata": {},
     "output_type": "execute_result"
    }
   ],
   "source": [
    "df['combined_text'].isnull().sum()"
   ]
  },
  {
   "cell_type": "code",
   "execution_count": 21,
   "metadata": {},
   "outputs": [],
   "source": [
    "x_train,x_test,y_train,y_test=train_test_split(df['combined_text'],df['fake'], test_size=0.2, random_state=7)"
   ]
  },
  {
   "cell_type": "code",
   "execution_count": 23,
   "metadata": {},
   "outputs": [],
   "source": [
    "#DataFlair - Initialize a TfidfVectorizer\n",
    "tfidf_vectorizer=TfidfVectorizer(stop_words='english', max_df=0.7)\n",
    "#DataFlair - Fit and transform train set, transform test set\n",
    "tfidf_train=tfidf_vectorizer.fit_transform(x_train)\n",
    "tfidf_test=tfidf_vectorizer.transform(x_test)"
   ]
  },
  {
   "cell_type": "code",
   "execution_count": 24,
   "metadata": {},
   "outputs": [
    {
     "name": "stdout",
     "output_type": "stream",
     "text": [
      "Accuracy: 98.94%\n"
     ]
    }
   ],
   "source": [
    "#DataFlair - Initialize a PassiveAggressiveClassifier\n",
    "pac=PassiveAggressiveClassifier(max_iter=50)\n",
    "pac.fit(tfidf_train,y_train)\n",
    "#DataFlair - Predict on the test set and calculate accuracy\n",
    "y_pred=pac.predict(tfidf_test)\n",
    "score=accuracy_score(y_test,y_pred)\n",
    "print(f'Accuracy: {round(score*100,2)}%')"
   ]
  },
  {
   "cell_type": "code",
   "execution_count": 27,
   "metadata": {},
   "outputs": [
    {
     "data": {
      "text/plain": [
       "array([[629,   6],\n",
       "       [  6, 496]], dtype=int64)"
      ]
     },
     "execution_count": 27,
     "metadata": {},
     "output_type": "execute_result"
    }
   ],
   "source": [
    "#DataFlair - Build confusion matrix\n",
    "confusion_matrix(y_test,y_pred)"
   ]
  },
  {
   "cell_type": "code",
   "execution_count": 28,
   "metadata": {},
   "outputs": [
    {
     "data": {
      "text/plain": [
       "['filename.joblib']"
      ]
     },
     "execution_count": 28,
     "metadata": {},
     "output_type": "execute_result"
    }
   ],
   "source": [
    "from joblib import dump, load\n",
    "dump(pac, 'filename.joblib') "
   ]
  },
  {
   "cell_type": "code",
   "execution_count": null,
   "metadata": {},
   "outputs": [],
   "source": []
  }
 ],
 "metadata": {
  "kernelspec": {
   "display_name": "solis",
   "language": "python",
   "name": "solis"
  },
  "language_info": {
   "codemirror_mode": {
    "name": "ipython",
    "version": 3
   },
   "file_extension": ".py",
   "mimetype": "text/x-python",
   "name": "python",
   "nbconvert_exporter": "python",
   "pygments_lexer": "ipython3",
   "version": "3.7.9"
  }
 },
 "nbformat": 4,
 "nbformat_minor": 4
}
