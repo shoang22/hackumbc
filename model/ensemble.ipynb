{
 "cells": [
  {
   "cell_type": "code",
   "execution_count": null,
   "metadata": {},
   "outputs": [],
   "source": [
    "from sklearn import ensemble\n",
    "from sklearn.tree import DecisionTreeClassifier\n",
    "\n",
    "numBaseClassifiers =500\n",
    "maxdepth = 10\n",
    "trainAcc = []\n",
    "testAcc = []\n",
    "\n",
    "clf = ensemble.RandomForestClassifier(n_estimators=numBaseClassifiers)\n",
    "clf.fit(X_train,Y_train)\n",
    "Y_predTrain = clf.predict(X_train)\n",
    "Y_predTest = clf.predict(X_test)\n",
    "trainAcc.append(accuracy_score(Y_train,Y_predTrain))\n",
    "testAcc.append(accuracy_score(Y_test,Y_predTest))\n",
    "\n",
    "clf = ensemble.BaggingClassifier(DecisionTreeClassifier(max_depth=maxdepth)\n",
    "clf.fit(X_train,Y_train)\n",
    "Y_predTrain=clf.predict(X_train)\n",
    "Y_predTest=clf.predict(X_test)\n",
    "trainAcc.append(accuracy_score(Y_train,Y_predTrain))\n",
    "testAcc.append(accuracy_score(Y_test,Y_predTest))\n",
    "\n",
    "clf = ensemble.AdaBoostClassifier(DecisionTreeClassifier(max_depth=maxdepth)\n",
    "clf.fit(X_train,Y_train)\n",
    "Y_predTrain = clf.predict(X_train)\n",
    "Y_predTest = clf.predict(X_test)\n",
    "trainAcc.append(accuracy_score(Y_train,Y_predTrain))\n",
    "testAcc.append(accuracy_score(Y_test,Y_predTest))\n",
    "\n",
    "methods = ['Random Forest','Bagging','AdaBoost']\n",
    "fig, (ax1,ax2) = plt.subplots(1,2,figsize=(12,6))\n",
    "ax1.bar([1.5,2.5,3.5],trainAcc)\n",
    "ax1.set_xticks([1.5,2.5,3.5])\n",
    "ax1.set_xticklabels(methods)\n",
    "ax1.set_ylabel('Accuracy')\n",
    "ax1.set_title('Train')\n",
    "ax2.bar([1.5,2.5,3.5],testAcc)\n",
    "ax2.set_xticks([1.5,2.5,3.5])\n",
    "ax2.set_xticklabels(methods)\n",
    "ax2.set_ylabel('Accuracy')\n",
    "ax2.set_title('Test')"
   ]
  }
 ],
 "metadata": {
  "kernelspec": {
   "display_name": "solis",
   "language": "python",
   "name": "solis"
  },
  "language_info": {
   "codemirror_mode": {
    "name": "ipython",
    "version": 3
   },
   "file_extension": ".py",
   "mimetype": "text/x-python",
   "name": "python",
   "nbconvert_exporter": "python",
   "pygments_lexer": "ipython3",
   "version": "3.7.9"
  }
 },
 "nbformat": 4,
 "nbformat_minor": 4
}
