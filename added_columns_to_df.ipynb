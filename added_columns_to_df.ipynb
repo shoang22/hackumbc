{
  "nbformat": 4,
  "nbformat_minor": 0,
  "metadata": {
    "colab": {
      "name": "added columns to df.ipynb",
      "provenance": [],
      "collapsed_sections": []
    },
    "kernelspec": {
      "name": "python3",
      "display_name": "Python 3"
    }
  },
  "cells": [
    {
      "cell_type": "code",
      "metadata": {
        "id": "gxW3qdxhtebo"
      },
      "source": [
        "#This program adds a column to tell us the source of the real or fake covid19 news post "
      ],
      "execution_count": 2,
      "outputs": []
    },
    {
      "cell_type": "code",
      "metadata": {
        "id": "gIW5cQ0zwHaE"
      },
      "source": [
        "import pandas as pd \n",
        "import numpy as np "
      ],
      "execution_count": 3,
      "outputs": []
    },
    {
      "cell_type": "code",
      "metadata": {
        "id": "l2Nz6bbLwVwp"
      },
      "source": [
        "#Create a news source column \n",
        "source = covid_news(df) \n",
        "df['news_source'] = source[0] "
      ],
      "execution_count": null,
      "outputs": []
    },
    {
      "cell_type": "code",
      "metadata": {
        "id": "wgpFIeNV6-Rc"
      },
      "source": [
        "#Find URLS in a string \n",
        "import re\n",
        "#Using HTTPs columns as plain text columns \n",
        "df.assign(news_source=df['covid_links'])\n",
        "columnURLs = 'column URLs go here'\n",
        "urls = re.findall('http[s]?://(?:[a-zA-Z]|[0-9]|[$-_@.&+]|[!*\\(\\),]|(?:%[0-9a-fA-F][0-9a-fA-F]))+', columnURLs)\n",
        "df[\"news_source\"] = urls[8:len(urls)-4])"
      ],
      "execution_count": null,
      "outputs": []
    },
    {
      "cell_type": "code",
      "metadata": {
        "id": "PzssqV-H8BDz"
      },
      "source": [
        ""
      ],
      "execution_count": null,
      "outputs": []
    }
  ]
}